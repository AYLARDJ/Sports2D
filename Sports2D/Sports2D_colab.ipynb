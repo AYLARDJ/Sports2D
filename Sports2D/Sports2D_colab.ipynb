{
  "nbformat": 4,
  "nbformat_minor": 0,
  "metadata": {
    "colab": {
      "provenance": [],
      "collapsed_sections": [
        "OPXymuNjFysg"
      ],
      "include_colab_link": true
    },
    "kernelspec": {
      "name": "python3",
      "display_name": "Python 3"
    },
    "accelerator": "GPU"
  },
  "cells": [
    {
      "cell_type": "markdown",
      "metadata": {
        "id": "view-in-github",
        "colab_type": "text"
      },
      "source": [
        "<a href=\"https://colab.research.google.com/github/davidpagnon/Sports2D/blob/main/Sports2D_colab.ipynb\" target=\"_parent\"><img src=\"https://colab.research.google.com/assets/colab-badge.svg\" alt=\"Open In Colab\"/></a>"
      ]
    },
    {
      "cell_type": "code",
      "metadata": {
        "id": "IVnADxzX0KED"
      },
      "source": [
        "\n",
        "!cd openpose && rm -rf build || true && mkdir build && cd build && cmake .. && make -j`nproc`\n",
        "\n",
        "\n",
        "# cd /mnt/chromeos/GoogleDrive/MyDrive\n",
        "# instaloader -- -#{post_id}\n",
        "# instaloader -- -CchfyOxqbcE\n",
        "\n",
        "# export PATH=\"$HOME/.local/bin:$PATH\"\n",
        "# ffmpeg -i 2022-04-19_07-04-12_UTC.mp4 -i 2022-04-19_07-04-12_UTC-openpose.mp4 -filter_complex hstack output.mp4"
      ],
      "execution_count": null,
      "outputs": []
    },
    {
      "cell_type": "markdown",
      "metadata": {
        "id": "X38L6tanrnrB"
      },
      "source": [
        "# Pose Detection with OpenPose\n",
        "\n",
        "This notebook uses an open source project [CMU-Perceptual-Computing-Lab/openpose](https://github.com/CMU-Perceptual-Computing-Lab/openpose.git) to detect/track multi person poses on a video from your Google Drive\n",
        "\n",
        "@dinatih update base on https://colab.research.google.com/github/tugstugi/dl-colab-notebooks/blob/master/notebooks/OpenPose.ipynb"
      ]
    },
    {
      "cell_type": "markdown",
      "metadata": {
        "id": "4zDZCoNGT-CA"
      },
      "source": [
        "## Choose a video from your Google Drive"
      ]
    },
    {
      "cell_type": "code",
      "metadata": {
        "id": "0fGVMvI0WNx2",
        "colab": {
          "base_uri": "https://localhost:8080/"
        },
        "outputId": "9c73e8db-3dd8-4f72-8a2c-5ecff4163cb6"
      },
      "source": [
        "from google.colab import drive\n",
        "drive.mount('/content/drive')"
      ],
      "execution_count": null,
      "outputs": [
        {
          "output_type": "stream",
          "name": "stdout",
          "text": [
            "Mounted at /content/drive\n"
          ]
        }
      ]
    },
    {
      "cell_type": "markdown",
      "metadata": {
        "id": "CUreojffSlnJ"
      },
      "source": [
        "## Install OpenPose on Google Colab \n"
      ]
    },
    {
      "cell_type": "code",
      "metadata": {
        "id": "FOdkDhb6ga6N"
      },
      "source": [
        "import os\n",
        "from os.path import exists, join, basename, splitext\n",
        "\n",
        "git_repo_url = 'https://github.com/CMU-Perceptual-Computing-Lab/openpose.git'\n",
        "project_name = splitext(basename(git_repo_url))[0]\n",
        "\n",
        "if not exists(project_name):\n",
        "  !rm -rf openpose\n",
        "  # see: https://github.com/CMU-Perceptual-Computing-Lab/openpose/issues/949\n",
        "  print(\"install new CMake because of CUDA10\")\n",
        "  cmake_version = 'cmake-3.20.2-linux-x86_64.tar.gz'\n",
        "  if not exists(cmake_version):\n",
        "    !wget -q 'https://cmake.org/files/v3.20/{cmake_version}'\n",
        "  !tar xfz {cmake_version} --strip-components=1 -C /usr/local\n",
        "\n",
        "  print(\"clone openpose\")\n",
        "  !git clone -q --depth 1 $git_repo_url\n",
        "  print(\"install system dependencies\")\n",
        "  !apt-get -qq install -y libatlas-base-dev libprotobuf-dev libleveldb-dev libsnappy-dev libhdf5-serial-dev protobuf-compiler libgflags-dev libgoogle-glog-dev liblmdb-dev opencl-headers ocl-icd-opencl-dev libviennacl-dev\n",
        "  print(\"build openpose\")\n",
        "  !cd openpose && rm -rf build || true && mkdir build && cd build && cmake .. && make -j`nproc`\n",
        "\n",
        "\n"
      ],
      "execution_count": null,
      "outputs": []
    },
    {
      "cell_type": "markdown",
      "metadata": {
        "id": "ah-TgF1e_soM"
      },
      "source": [
        "## From a Google Drive's folder"
      ]
    },
    {
      "cell_type": "code",
      "metadata": {
        "id": "IqBROcGCPqEy"
      },
      "source": [
        "import os\n",
        "from os.path import exists, join, basename, splitext\n",
        "\n",
        "folder_path = '/content/drive/My Drive/openpose/'\n",
        "files = os.listdir(folder_path)\n",
        "files.reverse()\n",
        "for filename in files:\n",
        "  if filename.endswith('.mp4') and not filename.endswith('-openpose.mp4'):\n",
        "    print(filename)\n",
        "    colab_video_path = folder_path + filename\n",
        "    print(colab_video_path)\n",
        "    colab_openpose_video_path = colab_video_path.replace('.mp4', '') + '-openpose.mp4'\n",
        "    print(colab_openpose_video_path)\n",
        "    if not exists(colab_openpose_video_path):\n",
        "      !cd openpose && ./build/examples/openpose/openpose.bin --hand --face --number_people_max 12 --video '{colab_video_path}' --display 0 --write_video_with_audio --write_video '{colab_openpose_video_path}' # --net_resolution \"-1x736\" --scale_number 4 --scale_gap 0.25\n"
      ],
      "execution_count": null,
      "outputs": []
    },
    {
      "cell_type": "markdown",
      "metadata": {
        "id": "OPXymuNjFysg"
      },
      "source": [
        "## From Youtube (Downloaded to your Drive)"
      ]
    },
    {
      "cell_type": "code",
      "metadata": {
        "id": "2Z1bmRXeANAB"
      },
      "source": [
        "!pip install youtube-dl\n",
        "\n",
        "youtube_id = '2021-05-07_22-00-55_UTC'\n",
        "!youtube-dl -f mp4 -o '/content/drive/My Drive/openpose/%(id)s.mp4' {youtube_id}\n",
        "colab_video_path = '/content/drive/My Drive/openpose/' + youtube_id + '.mp4'\n",
        "colab_openpose_video_path = colab_video_path.replace('.mp4', '') + '-openpose.mp4'\n",
        "\n",
        "!cd openpose && ./build/examples/openpose/openpose.bin --number_people_max 12 --video '{colab_video_path}' --display 0 --write_video_with_audio --write_video '{colab_openpose_video_path}' # --net_resolution \"-1x736\" --scale_number 4 --scale_gap 0.25\n"
      ],
      "execution_count": null,
      "outputs": []
    },
    {
      "cell_type": "markdown",
      "metadata": {
        "id": "kL6_eTNR0HFN"
      },
      "source": [
        "# From a Google Drive's file"
      ]
    },
    {
      "cell_type": "code",
      "metadata": {
        "id": "Y9FZupxuV4Cn",
        "colab": {
          "base_uri": "https://localhost:8080/"
        },
        "outputId": "0d2cf7bc-1f09-43d0-b366-cb77cc132cf5"
      },
      "source": [
        "# video_folder = os.path.dirname(colab_video_path)\n",
        "# video_base_name = os.path.basename(colab_video_path)\n",
        "# print(video_base_name)\n",
        "import os\n",
        "from os.path import exists, join, basename, splitext\n",
        "colab_video_path = '/content/drive/My Drive/2022-05-17_17-23-23_UTC.mp4'\n",
        "colab_openpose_video_path = colab_video_path.replace('.mp4', '') + '-openpose.mp4'\n",
        "\n",
        "!cd openpose && ./build/examples/openpose/openpose.bin --face --hand --number_people_max 12 --video '{colab_video_path}' --display 0 --write_video_with_audio --write_video '{colab_openpose_video_path}' # --net_resolution \"-1x736\" --scale_number 4 --scale_gap 0.25\n"
      ],
      "execution_count": null,
      "outputs": [
        {
          "output_type": "stream",
          "name": "stdout",
          "text": [
            "Starting OpenPose demo...\n",
            "Configuring OpenPose...\n",
            "Starting thread(s)...\n",
            "Auto-detecting all available GPUs... Detected 1 GPU(s), using 1 of them starting at GPU 0.\n",
            "ffmpeg version 3.4.8-0ubuntu0.2 Copyright (c) 2000-2020 the FFmpeg developers\n",
            "built with gcc 7 (Ubuntu 7.5.0-3ubuntu1~18.04)\n",
            "configuration: --prefix=/usr --extra-version=0ubuntu0.2 --toolchain=hardened --libdir=/usr/lib/x86_64-linux-gnu --incdir=/usr/include/x86_64-linux-gnu --enable-gpl --disable-stripping --enable-avresample --enable-avisynth --enable-gnutls --enable-ladspa --enable-libass --enable-libbluray --enable-libbs2b --enable-libcaca --enable-libcdio --enable-libflite --enable-libfontconfig --enable-libfreetype --enable-libfribidi --enable-libgme --enable-libgsm --enable-libmp3lame --enable-libmysofa --enable-libopenjpeg --enable-libopenmpt --enable-libopus --enable-libpulse --enable-librubberband --enable-librsvg --enable-libshine --enable-libsnappy --enable-libsoxr --enable-libspeex --enable-libssh --enable-libtheora --enable-libtwolame --enable-libvorbis --enable-libvpx --enable-libwavpack --enable-libwebp --enable-libx265 --enable-libxml2 --enable-libxvid --enable-libzmq --enable-libzvbi --enable-omx --enable-openal --enable-opengl --enable-sdl2 --enable-libdc1394 --enable-libdrm --enable-libiec61883 --enable-chromaprint --enable-frei0r --enable-libopencv --enable-libx264 --enable-shared\n",
            "libavutil      55. 78.100 / 55. 78.100\n",
            "libavcodec     57.107.100 / 57.107.100\n",
            "libavformat    57. 83.100 / 57. 83.100\n",
            "libavdevice    57. 10.100 / 57. 10.100\n",
            "libavfilter     6.107.100 /  6.107.100\n",
            "libavresample   3.  7.  0 /  3.  7.  0\n",
            "libswscale      4.  8.100 /  4.  8.100\n",
            "libswresample   2.  9.100 /  2.  9.100\n",
            "libpostproc    54.  7.100 / 54.  7.100\n",
            "Temporarily saving video frames as JPG images in: /content/drive/My Drive/2022-05-17_17-23-23_UTC-openpose_r8904530ijyiopf9034jiop4g90j0yh795640h38j\n",
            "OpenPose demo successfully finished. Total time: 885.491842 seconds.\n",
            "JPG images temporarily generated in /content/drive/My Drive/2022-05-17_17-23-23_UTC-openpose_r8904530ijyiopf9034jiop4g90j0yh795640h38j.\n",
            "Creating MP4 video out of JPG images by running:\n",
            "ffmpeg -y -framerate 30.000000 -i '/content/drive/My Drive/2022-05-17_17-23-23_UTC-openpose_r8904530ijyiopf9034jiop4g90j0yh795640h38j/%12d_rendered.jpg' -c:v libx264 -pix_fmt yuv420p '/content/drive/My Drive/2022-05-17_17-23-23_UTC-openpose.mp4'\n",
            "\n",
            "ffmpeg version 3.4.8-0ubuntu0.2 Copyright (c) 2000-2020 the FFmpeg developers\n",
            "  built with gcc 7 (Ubuntu 7.5.0-3ubuntu1~18.04)\n",
            "  configuration: --prefix=/usr --extra-version=0ubuntu0.2 --toolchain=hardened --libdir=/usr/lib/x86_64-linux-gnu --incdir=/usr/include/x86_64-linux-gnu --enable-gpl --disable-stripping --enable-avresample --enable-avisynth --enable-gnutls --enable-ladspa --enable-libass --enable-libbluray --enable-libbs2b --enable-libcaca --enable-libcdio --enable-libflite --enable-libfontconfig --enable-libfreetype --enable-libfribidi --enable-libgme --enable-libgsm --enable-libmp3lame --enable-libmysofa --enable-libopenjpeg --enable-libopenmpt --enable-libopus --enable-libpulse --enable-librubberband --enable-librsvg --enable-libshine --enable-libsnappy --enable-libsoxr --enable-libspeex --enable-libssh --enable-libtheora --enable-libtwolame --enable-libvorbis --enable-libvpx --enable-libwavpack --enable-libwebp --enable-libx265 --enable-libxml2 --enable-libxvid --enable-libzmq --enable-libzvbi --enable-omx --enable-openal --enable-opengl --enable-sdl2 --enable-libdc1394 --enable-libdrm --enable-libiec61883 --enable-chromaprint --enable-frei0r --enable-libopencv --enable-libx264 --enable-shared\n",
            "  libavutil      55. 78.100 / 55. 78.100\n",
            "  libavcodec     57.107.100 / 57.107.100\n",
            "  libavformat    57. 83.100 / 57. 83.100\n",
            "  libavdevice    57. 10.100 / 57. 10.100\n",
            "  libavfilter     6.107.100 /  6.107.100\n",
            "  libavresample   3.  7.  0 /  3.  7.  0\n",
            "  libswscale      4.  8.100 /  4.  8.100\n",
            "  libswresample   2.  9.100 /  2.  9.100\n",
            "  libpostproc    54.  7.100 / 54.  7.100\n",
            "Input #0, image2, from '/content/drive/My Drive/2022-05-17_17-23-23_UTC-openpose_r8904530ijyiopf9034jiop4g90j0yh795640h38j/%12d_rendered.jpg':\n",
            "  Duration: 00:01:45.73, start: 0.000000, bitrate: N/A\n",
            "    Stream #0:0: Video: mjpeg, yuvj420p(pc, bt470bg/unknown/unknown), 720x1280 [SAR 1:1 DAR 9:16], 30 fps, 30 tbr, 30 tbn, 30 tbc\n",
            "Stream mapping:\n",
            "  Stream #0:0 -> #0:0 (mjpeg (native) -> h264 (libx264))\n",
            "Press [q] to stop, [?] for help\n",
            "\u001b[1;34m[swscaler @ 0x563a18bf0000] \u001b[0m\u001b[0;33mdeprecated pixel format used, make sure you did set range correctly\n",
            "\u001b[0m\u001b[1;36m[libx264 @ 0x563a18b0fe00] \u001b[0musing SAR=1/1\n",
            "\u001b[1;36m[libx264 @ 0x563a18b0fe00] \u001b[0musing cpu capabilities: MMX2 SSE2Fast SSSE3 SSE4.2 AVX FMA3 BMI2 AVX2\n",
            "\u001b[1;36m[libx264 @ 0x563a18b0fe00] \u001b[0mprofile High, level 3.1\n",
            "\u001b[1;36m[libx264 @ 0x563a18b0fe00] \u001b[0m264 - core 152 r2854 e9a5903 - H.264/MPEG-4 AVC codec - Copyleft 2003-2017 - http://www.videolan.org/x264.html - options: cabac=1 ref=3 deblock=1:0:0 analyse=0x3:0x113 me=hex subme=7 psy=1 psy_rd=1.00:0.00 mixed_ref=1 me_range=16 chroma_me=1 trellis=1 8x8dct=1 cqm=0 deadzone=21,11 fast_pskip=1 chroma_qp_offset=-2 threads=3 lookahead_threads=1 sliced_threads=0 nr=0 decimate=1 interlaced=0 bluray_compat=0 constrained_intra=0 bframes=3 b_pyramid=2 b_adapt=1 b_bias=0 direct=1 weightb=1 open_gop=0 weightp=2 keyint=250 keyint_min=25 scenecut=40 intra_refresh=0 rc_lookahead=40 rc=crf mbtree=1 crf=23.0 qcomp=0.60 qpmin=0 qpmax=69 qpstep=4 ip_ratio=1.40 aq=1:1.00\n",
            "Output #0, mp4, to '/content/drive/My Drive/2022-05-17_17-23-23_UTC-openpose.mp4':\n",
            "  Metadata:\n",
            "    encoder         : Lavf57.83.100\n",
            "    Stream #0:0: Video: h264 (libx264) (avc1 / 0x31637661), yuv420p, 720x1280 [SAR 1:1 DAR 9:16], q=-1--1, 30 fps, 15360 tbn, 30 tbc\n",
            "    Metadata:\n",
            "      encoder         : Lavc57.107.100 libx264\n",
            "    Side data:\n",
            "      cpb: bitrate max/min/avg: 0/0/0 buffer size: 0 vbv_delay: -1\n",
            "frame= 3172 fps= 22 q=-1.0 Lsize=   28304kB time=00:01:45.63 bitrate=2195.0kbits/s speed=0.743x    \n",
            "video:28266kB audio:0kB subtitle:0kB other streams:0kB global headers:0kB muxing overhead: 0.134177%\n",
            "\u001b[1;36m[libx264 @ 0x563a18b0fe00] \u001b[0mframe I:13    Avg QP:18.49  size: 77670\n",
            "\u001b[1;36m[libx264 @ 0x563a18b0fe00] \u001b[0mframe P:923   Avg QP:22.10  size: 16656\n",
            "\u001b[1;36m[libx264 @ 0x563a18b0fe00] \u001b[0mframe B:2236  Avg QP:27.93  size:  5617\n",
            "\u001b[1;36m[libx264 @ 0x563a18b0fe00] \u001b[0mconsecutive B-frames:  0.8% 13.6%  6.1% 79.6%\n",
            "\u001b[1;36m[libx264 @ 0x563a18b0fe00] \u001b[0mmb I  I16..4:  8.4% 37.5% 54.1%\n",
            "\u001b[1;36m[libx264 @ 0x563a18b0fe00] \u001b[0mmb P  I16..4:  3.5%  9.5%  5.5%  P16..4: 18.7%  7.3%  3.7%  0.0%  0.0%    skip:51.8%\n",
            "\u001b[1;36m[libx264 @ 0x563a18b0fe00] \u001b[0mmb B  I16..4:  0.8%  1.7%  0.9%  B16..8: 16.5%  4.4%  1.2%  direct: 1.0%  skip:73.6%  L0:43.7% L1:50.9% BI: 5.3%\n",
            "\u001b[1;36m[libx264 @ 0x563a18b0fe00] \u001b[0m8x8 transform intra:50.9% inter:61.1%\n",
            "\u001b[1;36m[libx264 @ 0x563a18b0fe00] \u001b[0mcoded y,uvDC,uvAC intra: 56.4% 67.2% 26.6% inter: 7.0% 9.2% 2.6%\n",
            "\u001b[1;36m[libx264 @ 0x563a18b0fe00] \u001b[0mi16 v,h,dc,p: 27% 19% 11% 43%\n",
            "\u001b[1;36m[libx264 @ 0x563a18b0fe00] \u001b[0mi8 v,h,dc,ddl,ddr,vr,hd,vl,hu: 27% 18% 15%  5%  7%  8%  6%  7%  6%\n",
            "\u001b[1;36m[libx264 @ 0x563a18b0fe00] \u001b[0mi4 v,h,dc,ddl,ddr,vr,hd,vl,hu: 32% 18% 15%  6%  7%  7%  6%  5%  4%\n",
            "\u001b[1;36m[libx264 @ 0x563a18b0fe00] \u001b[0mi8c dc,h,v,p: 40% 20% 28% 11%\n",
            "\u001b[1;36m[libx264 @ 0x563a18b0fe00] \u001b[0mWeighted P-Frames: Y:2.3% UV:0.7%\n",
            "\u001b[1;36m[libx264 @ 0x563a18b0fe00] \u001b[0mref P L0: 67.2% 16.0% 12.2%  4.5%  0.1%\n",
            "\u001b[1;36m[libx264 @ 0x563a18b0fe00] \u001b[0mref B L0: 90.4%  8.1%  1.5%\n",
            "\u001b[1;36m[libx264 @ 0x563a18b0fe00] \u001b[0mref B L1: 96.4%  3.6%\n",
            "\u001b[1;36m[libx264 @ 0x563a18b0fe00] \u001b[0mkb/s:2189.95\n",
            "Video saved and temporary image folder removed.\n",
            "Adding audio to video by running:\n",
            "ffmpeg -y -i '/content/drive/My Drive/2022-05-17_17-23-23_UTC-openpose.mp4' -i '/content/drive/My Drive/2022-05-17_17-23-23_UTC.mp4' -codec copy -shortest '/content/drive/My Drive/2022-05-17_17-23-23_UTC-openpose.mp4_r8904530ijyiopf9034jiop4g90j0yh795640h38j.mp4'\n",
            "ffmpeg version 3.4.8-0ubuntu0.2 Copyright (c) 2000-2020 the FFmpeg developers\n",
            "  built with gcc 7 (Ubuntu 7.5.0-3ubuntu1~18.04)\n",
            "  configuration: --prefix=/usr --extra-version=0ubuntu0.2 --toolchain=hardened --libdir=/usr/lib/x86_64-linux-gnu --incdir=/usr/include/x86_64-linux-gnu --enable-gpl --disable-stripping --enable-avresample --enable-avisynth --enable-gnutls --enable-ladspa --enable-libass --enable-libbluray --enable-libbs2b --enable-libcaca --enable-libcdio --enable-libflite --enable-libfontconfig --enable-libfreetype --enable-libfribidi --enable-libgme --enable-libgsm --enable-libmp3lame --enable-libmysofa --enable-libopenjpeg --enable-libopenmpt --enable-libopus --enable-libpulse --enable-librubberband --enable-librsvg --enable-libshine --enable-libsnappy --enable-libsoxr --enable-libspeex --enable-libssh --enable-libtheora --enable-libtwolame --enable-libvorbis --enable-libvpx --enable-libwavpack --enable-libwebp --enable-libx265 --enable-libxml2 --enable-libxvid --enable-libzmq --enable-libzvbi --enable-omx --enable-openal --enable-opengl --enable-sdl2 --enable-libdc1394 --enable-libdrm --enable-libiec61883 --enable-chromaprint --enable-frei0r --enable-libopencv --enable-libx264 --enable-shared\n",
            "  libavutil      55. 78.100 / 55. 78.100\n",
            "  libavcodec     57.107.100 / 57.107.100\n",
            "  libavformat    57. 83.100 / 57. 83.100\n",
            "  libavdevice    57. 10.100 / 57. 10.100\n",
            "  libavfilter     6.107.100 /  6.107.100\n",
            "  libavresample   3.  7.  0 /  3.  7.  0\n",
            "  libswscale      4.  8.100 /  4.  8.100\n",
            "  libswresample   2.  9.100 /  2.  9.100\n",
            "  libpostproc    54.  7.100 / 54.  7.100\n",
            "Input #0, mov,mp4,m4a,3gp,3g2,mj2, from '/content/drive/My Drive/2022-05-17_17-23-23_UTC-openpose.mp4':\n",
            "  Metadata:\n",
            "    major_brand     : isom\n",
            "    minor_version   : 512\n",
            "    compatible_brands: isomiso2avc1mp41\n",
            "    encoder         : Lavf57.83.100\n",
            "  Duration: 00:01:45.73, start: 0.000000, bitrate: 2192 kb/s\n",
            "    Stream #0:0(und): Video: h264 (High) (avc1 / 0x31637661), yuv420p, 720x1280 [SAR 1:1 DAR 9:16], 2190 kb/s, 30 fps, 30 tbr, 15360 tbn, 60 tbc (default)\n",
            "    Metadata:\n",
            "      handler_name    : VideoHandler\n",
            "Input #1, mov,mp4,m4a,3gp,3g2,mj2, from '/content/drive/My Drive/2022-05-17_17-23-23_UTC.mp4':\n",
            "  Metadata:\n",
            "    major_brand     : isom\n",
            "    minor_version   : 512\n",
            "    compatible_brands: isomiso2avc1mp41\n",
            "  Duration: 00:01:45.79, start: -0.001451, bitrate: 1512 kb/s\n",
            "    Stream #1:0(und): Video: h264 (Main) (avc1 / 0x31637661), yuv420p(tv, bt709), 720x1280, 1440 kb/s, 30 fps, 30 tbr, 15360 tbn, 3840 tbc (default)\n",
            "    Metadata:\n",
            "      handler_name    : VideoHandler\n",
            "    Stream #1:1(und): Audio: aac (LC) (mp4a / 0x6134706D), 44100 Hz, stereo, fltp, 64 kb/s (default)\n",
            "    Metadata:\n",
            "      handler_name    : SoundHandler\n",
            "Output #0, mp4, to '/content/drive/My Drive/2022-05-17_17-23-23_UTC-openpose.mp4_r8904530ijyiopf9034jiop4g90j0yh795640h38j.mp4':\n",
            "  Metadata:\n",
            "    major_brand     : isom\n",
            "    minor_version   : 512\n",
            "    compatible_brands: isomiso2avc1mp41\n",
            "    encoder         : Lavf57.83.100\n",
            "    Stream #0:0(und): Video: h264 (High) (avc1 / 0x31637661), yuv420p, 720x1280 [SAR 1:1 DAR 9:16], q=2-31, 2190 kb/s, 30 fps, 30 tbr, 15360 tbn, 15360 tbc (default)\n",
            "    Metadata:\n",
            "      handler_name    : VideoHandler\n",
            "    Stream #0:1(und): Audio: aac (LC) (mp4a / 0x6134706D), 44100 Hz, stereo, fltp, 64 kb/s (default)\n",
            "    Metadata:\n",
            "      handler_name    : SoundHandler\n",
            "Stream mapping:\n",
            "  Stream #0:0 -> #0:0 (copy)\n",
            "  Stream #1:1 -> #0:1 (copy)\n",
            "Press [q] to stop, [?] for help\n",
            "frame= 3172 fps=0.0 q=-1.0 Lsize=   29206kB time=00:01:45.65 bitrate=2264.5kbits/s speed= 694x    \n",
            "video:28266kB audio:827kB subtitle:0kB other streams:0kB global headers:0kB muxing overhead: 0.388310%\n"
          ]
        }
      ]
    },
    {
      "cell_type": "code",
      "metadata": {
        "colab": {
          "base_uri": "https://localhost:8080/"
        },
        "id": "tUAQxmF3TSdt",
        "outputId": "46f4733f-c280-4371-9459-182122f3dbb5"
      },
      "source": [
        "!cmake -version\n"
      ],
      "execution_count": null,
      "outputs": [
        {
          "output_type": "stream",
          "text": [
            "cmake version 3.12.0\n",
            "\n",
            "CMake suite maintained and supported by Kitware (kitware.com/cmake).\n"
          ],
          "name": "stdout"
        }
      ]
    }
  ]
}